{
 "cells": [
  {
   "cell_type": "code",
   "execution_count": 1,
   "metadata": {},
   "outputs": [],
   "source": [
    "import pandas as pd\n",
    "from IPython.display import clear_output"
   ]
  },
  {
   "cell_type": "code",
   "execution_count": 2,
   "metadata": {},
   "outputs": [
    {
     "data": {
      "text/plain": [
       "['12', '13', '14', '15', '16', '17', '18']"
      ]
     },
     "execution_count": 2,
     "metadata": {},
     "output_type": "execute_result"
    }
   ],
   "source": [
    "xls = pd.ExcelFile('hunt4.xlsx')\n",
    "days = len(xls.sheet_names)\n",
    "xls.sheet_names"
   ]
  },
  {
   "cell_type": "code",
   "execution_count": 3,
   "metadata": {},
   "outputs": [],
   "source": [
    "df1 = pd.read_excel(xls, '12')\n",
    "df2 = pd.read_excel(xls, '13')\n",
    "df3 = pd.read_excel(xls, '14')\n",
    "df4 = pd.read_excel(xls, '15')\n",
    "df5 = pd.read_excel(xls, '16')\n",
    "df6 = pd.read_excel(xls, '17')\n",
    "df7 = pd.read_excel(xls, '18')\n",
    "\n",
    "frame = [df1, df2, df3, df4, df5, df6, df7]\n",
    "Hunt = pd.concat(frame)\n",
    "Hunt = Hunt.reset_index(drop=True)\n",
    "Hunt = Hunt.rename(columns=lambda x:x.replace(' ', '_'))"
   ]
  },
  {
   "cell_type": "code",
   "execution_count": 4,
   "metadata": {},
   "outputs": [],
   "source": [
    "class Guild():\n",
    "    roster = []\n",
    "    def __init__(self, name, total, hunt, purchased, one, two, three, four, five):\n",
    "        self.name = name\n",
    "        self.total = total\n",
    "        self.hunt = hunt\n",
    "        self.purchased = purchased\n",
    "        self.one = one\n",
    "        self.two = two\n",
    "        self.three = three\n",
    "        self.four = four\n",
    "        self.five = five\n",
    "        self.score = self.get_score()\n",
    "        self.roster.append(self)\n",
    "        \n",
    "    def __repr__(self):\n",
    "        return self.name       \n",
    "    \n",
    "    def get_score(self):\n",
    "        return ((self.purchased * .3) + (self.two * .2) + (self.three * .5) + self.four + self.five)"
   ]
  },
  {
   "cell_type": "code",
   "execution_count": 5,
   "metadata": {
    "scrolled": true
   },
   "outputs": [],
   "source": [
    "# Initalize player instances\n",
    "def get_roster():\n",
    "    roster = []\n",
    "    for _ in Hunt.Name:\n",
    "        if _ not in roster:\n",
    "            roster.append(_)\n",
    "    for _ in roster:\n",
    "        total = Hunt.query(f'Name == \"{_}\"').Total.sum()\n",
    "        hunt = Hunt.query(f'Name == \"{_}\"').Hunt.sum()\n",
    "        purchased = Hunt.query(f'Name == \"{_}\"').Purchase.sum()\n",
    "        one = Hunt.query(f'Name == \"{_}\"').Level_1.sum()\n",
    "        two = Hunt.query(f'Name == \"{_}\"').Level_2.sum()\n",
    "        three = Hunt.query(f'Name == \"{_}\"').Level_3.sum()\n",
    "        four = Hunt.query(f'Name == \"{_}\"').Level_4.sum()\n",
    "        five = Hunt.query(f'Name == \"{_}\"').Level_5.sum()\n",
    "        g = Guild(name=_, total=total, hunt=hunt, purchased=purchased, one=one, two=two, three=three, four=four, five=five)"
   ]
  },
  {
   "cell_type": "code",
   "execution_count": 6,
   "metadata": {},
   "outputs": [],
   "source": [
    "# Finding the top Hunter\n",
    "def top_hunter(roster):\n",
    "    hunt = 0\n",
    "    for _ in roster:\n",
    "        if _.name != 'Total' and _.name != 'Anonymous' and _.hunt > hunt: hunt = _.hunt\n",
    "    for _ in roster:\n",
    "        if _.hunt == hunt:\n",
    "            return _\n",
    "        \n",
    "# Find the top Buyer\n",
    "def top_buyer(roster):\n",
    "    purchases = 0\n",
    "    for _ in roster:\n",
    "        if _.name != 'Total' and _.name != 'Anonymous' and _.purchased > purchases: purchases = _.purchased\n",
    "    for _ in roster:\n",
    "        if _.purchased == purchases:\n",
    "            return _\n",
    "        \n",
    "# Find the top Gifter\n",
    "def top_gifter(roster):\n",
    "    gifts = 0\n",
    "    for _ in roster:\n",
    "        if _.name != 'Total' and _.name != 'Anonymous' and _.total > gifts: gifts = _.total\n",
    "    for _ in roster:\n",
    "        if _.total == gifts: \n",
    "            return _\n",
    "    \n",
    "# Find the player with the top points\n",
    "def top_points(roster):\n",
    "    points = 0\n",
    "    for _ in roster:\n",
    "        if _.name != 'Total' and _.name != 'Anonymous' and _.score > points: points = _.score\n",
    "    for _ in roster:\n",
    "        if _.score == points:\n",
    "            return _"
   ]
  },
  {
   "cell_type": "code",
   "execution_count": 7,
   "metadata": {},
   "outputs": [],
   "source": [
    "# Breakdowns for categories\n",
    "def breakdown(_, message):\n",
    "    print(f\"\"\"{message} breakdown\n",
    "    {message}: {_}\n",
    "    Total Gifts: {_.total}\n",
    "    Hunts: {_.hunt}\n",
    "    Purchases: {_.purchased}\n",
    "    Level 1s: {_.one}\n",
    "    Level 2s: {_.two}\n",
    "    Level 3s: {_.three}\n",
    "    Level 4s: {_.four}\n",
    "    Level 5s: {_.five}\n",
    "    Total Points: {round(_.score, 2)}\"\"\")\n",
    "\n",
    "# overall Breakdown\n",
    "def overall_breakdown(_):\n",
    "    print(f\"\"\"{_} breakdown\n",
    "    Total Gifts: {_.total}\n",
    "    Hunts: {_.hunt}\n",
    "    Purchases: {_.purchased}\n",
    "    Level 1s: {_.one}\n",
    "    Level 2s: {_.two}\n",
    "    Level 3s: {_.three}\n",
    "    Level 4s: {_.four}\n",
    "    Level 5s: {_.five}\n",
    "    Total Points: {round(_.score, 2)}\"\"\")\n",
    "\n",
    "# session average Breakdown\n",
    "def session_average(_):\n",
    "    print(f\"\"\"{days} day report average breakdown\n",
    "    Total Gifts: {round(_.total/days, 2)}\n",
    "    Hunts: {round(_.hunt/days, 2)}\n",
    "    Purchases: {round(_.purchased/days, 2)}\n",
    "    Level 1s: {round(_.one/days, 2)}\n",
    "    Level 2s: {round(_.two/days, 2)}\n",
    "    Level 3s: {round(_.three/days, 2)}\n",
    "    Level 4s: {round(_.four/days, 2)}\n",
    "    Level 5s: {round(_.five/days, 2)}\n",
    "    Total Points: {round(_.score, 2)}\"\"\")"
   ]
  },
  {
   "cell_type": "code",
   "execution_count": 8,
   "metadata": {},
   "outputs": [],
   "source": [
    "# Find a player\n",
    "def find_player(player, roster):\n",
    "    for _ in roster:\n",
    "        if player == _.name:\n",
    "            return _"
   ]
  },
  {
   "cell_type": "code",
   "execution_count": 9,
   "metadata": {
    "scrolled": false
   },
   "outputs": [],
   "source": [
    "# Finding the Naughty List\n",
    "class Naughty(Guild):\n",
    "    roster=[]\n",
    "    \n",
    "    @classmethod\n",
    "    def get_naughty_list(self, days):\n",
    "        print(\"\"\"What it means to be on the naughty list:\n",
    "    For each hunt report we recieve, we translate each level 2 hunted into .2 points, \n",
    "    level 3s into .5 points, and level 4/5 into 1 point each. \n",
    "    Purchasing a pack gives you .3 points. In total, each person is required to make 1 point daily.\n",
    "    The number shown after your name is the number of total points you were missing for this hunt session.\"\"\")\n",
    "        print()\n",
    "        print(f\"There are {len(self.roster)} players on the naughty list\")\n",
    "        for _ in self.roster:\n",
    "            print(f\"{_} is missing {round(days-_.score, 2)} days worth of completed hunts.\")\n",
    "        \n",
    "def make_naughty_list(roster, days):\n",
    "    for _ in roster:\n",
    "        if _.score < days:\n",
    "            Naughty(name=_.name, total=_.total, hunt=_.hunt, purchased=_.purchased, one=_.one, two=_.two, three=_.three, four=_.four, five=_.five)"
   ]
  },
  {
   "cell_type": "code",
   "execution_count": 10,
   "metadata": {},
   "outputs": [],
   "source": [
    "def space_decorator():\n",
    "    print()\n",
    "    print(\"=\"*40)\n",
    "    print()"
   ]
  },
  {
   "cell_type": "code",
   "execution_count": 11,
   "metadata": {},
   "outputs": [],
   "source": [
    "def get_report():\n",
    "    get_roster()\n",
    "    make_naughty_list(Guild.roster, days)\n",
    "    breakdown(top_hunter(Guild.roster), \"Top Hunter\")\n",
    "    space_decorator()\n",
    "    breakdown(top_buyer(Guild.roster), \"Top Buyer\")\n",
    "    space_decorator()\n",
    "    breakdown(top_gifter(Guild.roster), \"Top Gifter\")\n",
    "    space_decorator()\n",
    "    breakdown(top_points(Guild.roster), \"Top Score\")\n",
    "    space_decorator()\n",
    "    overall_breakdown(find_player(\"Total\", Guild.roster))\n",
    "    space_decorator()\n",
    "    overall_breakdown(find_player(\"Anonymous\", Guild.roster))\n",
    "    space_decorator()\n",
    "    session_average(find_player(\"Total\", Guild.roster))\n",
    "    space_decorator()\n",
    "    Naughty.get_naughty_list(days)"
   ]
  },
  {
   "cell_type": "code",
   "execution_count": 12,
   "metadata": {
    "scrolled": true
   },
   "outputs": [
    {
     "name": "stdout",
     "output_type": "stream",
     "text": [
      "Top Hunter breakdown\n",
      "    Top Hunter: Executive LT\n",
      "    Total Gifts: 96\n",
      "    Hunts: 89\n",
      "    Purchases: 7\n",
      "    Level 1s: 0\n",
      "    Level 2s: 62\n",
      "    Level 3s: 14\n",
      "    Level 4s: 1\n",
      "    Level 5s: 12\n",
      "    Total Points: 34.5\n",
      "\n",
      "========================================\n",
      "\n",
      "Top Buyer breakdown\n",
      "    Top Buyer: Highgarden\n",
      "    Total Gifts: 106\n",
      "    Hunts: 22\n",
      "    Purchases: 84\n",
      "    Level 1s: 0\n",
      "    Level 2s: 12\n",
      "    Level 3s: 3\n",
      "    Level 4s: 3\n",
      "    Level 5s: 4\n",
      "    Total Points: 36.1\n",
      "\n",
      "========================================\n",
      "\n",
      "Top Gifter breakdown\n",
      "    Top Gifter: Highgarden\n",
      "    Total Gifts: 106\n",
      "    Hunts: 22\n",
      "    Purchases: 84\n",
      "    Level 1s: 0\n",
      "    Level 2s: 12\n",
      "    Level 3s: 3\n",
      "    Level 4s: 3\n",
      "    Level 5s: 4\n",
      "    Total Points: 36.1\n",
      "\n",
      "========================================\n",
      "\n",
      "Top Score breakdown\n",
      "    Top Score: Highgarden\n",
      "    Total Gifts: 106\n",
      "    Hunts: 22\n",
      "    Purchases: 84\n",
      "    Level 1s: 0\n",
      "    Level 2s: 12\n",
      "    Level 3s: 3\n",
      "    Level 4s: 3\n",
      "    Level 5s: 4\n",
      "    Total Points: 36.1\n",
      "\n",
      "========================================\n",
      "\n",
      "Total breakdown\n",
      "    Total Gifts: 3097\n",
      "    Hunts: 2078\n",
      "    Purchases: 1019\n",
      "    Level 1s: 7\n",
      "    Level 2s: 1287\n",
      "    Level 3s: 529\n",
      "    Level 4s: 128\n",
      "    Level 5s: 127\n",
      "    Total Points: 1082.6\n",
      "\n",
      "========================================\n",
      "\n",
      "Anonymous breakdown\n",
      "    Total Gifts: 105\n",
      "    Hunts: 0\n",
      "    Purchases: 105\n",
      "    Level 1s: 0\n",
      "    Level 2s: 0\n",
      "    Level 3s: 0\n",
      "    Level 4s: 0\n",
      "    Level 5s: 0\n",
      "    Total Points: 31.5\n",
      "\n",
      "========================================\n",
      "\n",
      "7 day report average breakdown\n",
      "    Total Gifts: 442.43\n",
      "    Hunts: 296.86\n",
      "    Purchases: 145.57\n",
      "    Level 1s: 1.0\n",
      "    Level 2s: 183.86\n",
      "    Level 3s: 75.57\n",
      "    Level 4s: 18.29\n",
      "    Level 5s: 18.14\n",
      "    Total Points: 1082.6\n",
      "\n",
      "========================================\n",
      "\n",
      "What it means to be on the naughty list:\n",
      "    For each hunt report we recieve, we translate each level 2 hunted into .2 points, \n",
      "    level 3s into .5 points, and level 4/5 into 1 point each. \n",
      "    Purchasing a pack gives you .3 points. In total, each person is required to make 1 point daily.\n",
      "    The number shown after your name is the number of total points you were missing for this hunt session.\n",
      "\n",
      "There are 54 players on the naughty list\n",
      "Imafukyoface is missing 0.2 days worth of completed hunts.\n",
      "L0RD KAN0N is missing 0.5 days worth of completed hunts.\n",
      "S L I M E is missing 0.5 days worth of completed hunts.\n",
      "ZDHades is missing 5.8 days worth of completed hunts.\n",
      "xBlueDragonx is missing 2.1 days worth of completed hunts.\n",
      "XP AlboZ is missing 2.8 days worth of completed hunts.\n",
      "CHSBank is missing 0.1 days worth of completed hunts.\n",
      "Sandokam is missing 2.2 days worth of completed hunts.\n",
      "ALVIROoOoS is missing 4.7 days worth of completed hunts.\n",
      "Figurehead is missing 2.6 days worth of completed hunts.\n",
      "x TANJIRO xX is missing 3.6 days worth of completed hunts.\n",
      "KloudStrife is missing 2.6 days worth of completed hunts.\n",
      "RobJau is missing 0.5 days worth of completed hunts.\n",
      "Trop 000 is missing 1.0 days worth of completed hunts.\n",
      "ShakeBurn is missing 3.2 days worth of completed hunts.\n",
      "Mr Hai GeGe is missing 0.7 days worth of completed hunts.\n",
      "XP SuMi is missing 1.0 days worth of completed hunts.\n",
      "UNIQUE SOL is missing 0.7 days worth of completed hunts.\n",
      "TheSun90 is missing 1.5 days worth of completed hunts.\n",
      "PapaRangeR is missing 3.1 days worth of completed hunts.\n",
      "Mi Bae is missing 0.4 days worth of completed hunts.\n",
      "xXxSavvYxXx is missing 1.8 days worth of completed hunts.\n",
      "alek sander is missing 3.4 days worth of completed hunts.\n",
      "Umaya is missing 5.5 days worth of completed hunts.\n",
      "MASAOkun is missing 2.9 days worth of completed hunts.\n",
      "Gossi is missing 3.1 days worth of completed hunts.\n",
      "CHIP B A B Y is missing 6.0 days worth of completed hunts.\n",
      "XxMaDMaNxX is missing 0.8 days worth of completed hunts.\n",
      "UCantFindMe is missing 2.0 days worth of completed hunts.\n",
      "Aure87 is missing 5.6 days worth of completed hunts.\n",
      "D1CKHEAD is missing 4.8 days worth of completed hunts.\n",
      "command01 is missing 5.5 days worth of completed hunts.\n",
      "Egaaaal is missing 6.5 days worth of completed hunts.\n",
      "bloedrivier2 is missing 6.8 days worth of completed hunts.\n",
      "Royal Abjar is missing 1.6 days worth of completed hunts.\n",
      "Wendigo1 is missing 3.1 days worth of completed hunts.\n",
      "Tough Co0kie is missing 0.8 days worth of completed hunts.\n",
      "MR savage 6 is missing 5.2 days worth of completed hunts.\n",
      "WeakSauce1 is missing 5.3 days worth of completed hunts.\n",
      "I Am Hades is missing 2.5 days worth of completed hunts.\n",
      "Sayonaaraa is missing 6.0 days worth of completed hunts.\n",
      "fortnite btw is missing 5.9 days worth of completed hunts.\n",
      "MLA Dep is missing 6.3 days worth of completed hunts.\n",
      "Luckylionblu is missing 6.5 days worth of completed hunts.\n",
      "Red Aether is missing 6.4 days worth of completed hunts.\n",
      "ZzMCKzZ is missing 4.3 days worth of completed hunts.\n",
      "RAZ ALGUL is missing 6.4 days worth of completed hunts.\n",
      "jihongkia is missing 5.8 days worth of completed hunts.\n",
      "Dimas Wolfe is missing 6.6 days worth of completed hunts.\n",
      "1st Army is missing 4.2 days worth of completed hunts.\n",
      "WrranglerAlt is missing 5.6 days worth of completed hunts.\n",
      "Lionking 78 is missing 6.5 days worth of completed hunts.\n",
      "XAN  KZ is missing 5.7 days worth of completed hunts.\n",
      "B CINEBE is missing 6.5 days worth of completed hunts.\n"
     ]
    }
   ],
   "source": [
    "get_report()"
   ]
  },
  {
   "cell_type": "code",
   "execution_count": 16,
   "metadata": {},
   "outputs": [
    {
     "name": "stdout",
     "output_type": "stream",
     "text": [
      "set m1 nocerosset m1 noceros\n"
     ]
    }
   ],
   "source": [
    "x = input(\"set m1 noceros\")"
   ]
  },
  {
   "cell_type": "code",
   "execution_count": 17,
   "metadata": {},
   "outputs": [
    {
     "data": {
      "text/plain": [
       "'set m1 noceros'"
      ]
     },
     "execution_count": 17,
     "metadata": {},
     "output_type": "execute_result"
    }
   ],
   "source": [
    "x"
   ]
  },
  {
   "cell_type": "code",
   "execution_count": 21,
   "metadata": {},
   "outputs": [
    {
     "data": {
      "text/plain": [
       "'noceros'"
      ]
     },
     "execution_count": 21,
     "metadata": {},
     "output_type": "execute_result"
    }
   ],
   "source": [
    "x[7:]"
   ]
  },
  {
   "cell_type": "code",
   "execution_count": 35,
   "metadata": {},
   "outputs": [],
   "source": [
    "x = {'monsters': {\n",
    "        'noceros': {\n",
    "            'f2p': [\n",
    "                \"Level 1: :incinerator: :sage: :goblin: :elementalist: :snow:\",\n",
    "                \"Level 2: :incinerator: :sage: :goblin: :elementalist: :snow: \",\n",
    "                \"Level 3: :incinerator: :sage: :goblin: :elementalist: :snow:\",\n",
    "                \"Level 4: :incinerator: :sage: :goblin: :elementalist: :prima:\",\n",
    "                \"Level 5: :bunny: :incinerator: :sage: :elementalist: :prima:\"\n",
    "            ]\n",
    "        }\n",
    "    }}"
   ]
  },
  {
   "cell_type": "code",
   "execution_count": 37,
   "metadata": {},
   "outputs": [
    {
     "name": "stdout",
     "output_type": "stream",
     "text": [
      "Level 1: xyz\n",
      "Level 2: xyz\n",
      "Level 3: xyz\n"
     ]
    }
   ],
   "source": [
    "y = 'noceros'\n",
    "for _ in x['monsters'][y]['f2p']:\n",
    "    print(_)"
   ]
  }
 ],
 "metadata": {
  "kernelspec": {
   "display_name": "Python 3",
   "language": "python",
   "name": "python3"
  },
  "language_info": {
   "codemirror_mode": {
    "name": "ipython",
    "version": 3
   },
   "file_extension": ".py",
   "mimetype": "text/x-python",
   "name": "python",
   "nbconvert_exporter": "python",
   "pygments_lexer": "ipython3",
   "version": "3.8.3"
  }
 },
 "nbformat": 4,
 "nbformat_minor": 4
}
